{
 "cells": [
  {
   "cell_type": "markdown",
   "metadata": {},
   "source": [
    "#1  How-to-count-distance-to-the-previous-zero"
   ]
  },
  {
   "cell_type": "code",
   "execution_count": 4,
   "metadata": {},
   "outputs": [],
   "source": [
    "import pandas as pd\n",
    "import numpy as np\n",
    "import os"
   ]
  },
  {
   "cell_type": "code",
   "execution_count": 18,
   "metadata": {},
   "outputs": [
    {
     "data": {
      "text/html": [
       "<div>\n",
       "<style scoped>\n",
       "    .dataframe tbody tr th:only-of-type {\n",
       "        vertical-align: middle;\n",
       "    }\n",
       "\n",
       "    .dataframe tbody tr th {\n",
       "        vertical-align: top;\n",
       "    }\n",
       "\n",
       "    .dataframe thead th {\n",
       "        text-align: right;\n",
       "    }\n",
       "</style>\n",
       "<table border=\"1\" class=\"dataframe\">\n",
       "  <thead>\n",
       "    <tr style=\"text-align: right;\">\n",
       "      <th></th>\n",
       "      <th>X</th>\n",
       "      <th>Y</th>\n",
       "    </tr>\n",
       "  </thead>\n",
       "  <tbody>\n",
       "    <tr>\n",
       "      <th>0</th>\n",
       "      <td>7</td>\n",
       "      <td>1</td>\n",
       "    </tr>\n",
       "    <tr>\n",
       "      <th>1</th>\n",
       "      <td>2</td>\n",
       "      <td>2</td>\n",
       "    </tr>\n",
       "    <tr>\n",
       "      <th>2</th>\n",
       "      <td>0</td>\n",
       "      <td>0</td>\n",
       "    </tr>\n",
       "    <tr>\n",
       "      <th>3</th>\n",
       "      <td>3</td>\n",
       "      <td>1</td>\n",
       "    </tr>\n",
       "    <tr>\n",
       "      <th>4</th>\n",
       "      <td>4</td>\n",
       "      <td>2</td>\n",
       "    </tr>\n",
       "    <tr>\n",
       "      <th>5</th>\n",
       "      <td>2</td>\n",
       "      <td>3</td>\n",
       "    </tr>\n",
       "    <tr>\n",
       "      <th>6</th>\n",
       "      <td>5</td>\n",
       "      <td>4</td>\n",
       "    </tr>\n",
       "    <tr>\n",
       "      <th>7</th>\n",
       "      <td>0</td>\n",
       "      <td>0</td>\n",
       "    </tr>\n",
       "    <tr>\n",
       "      <th>8</th>\n",
       "      <td>3</td>\n",
       "      <td>1</td>\n",
       "    </tr>\n",
       "    <tr>\n",
       "      <th>9</th>\n",
       "      <td>4</td>\n",
       "      <td>2</td>\n",
       "    </tr>\n",
       "  </tbody>\n",
       "</table>\n",
       "</div>"
      ],
      "text/plain": [
       "   X  Y\n",
       "0  7  1\n",
       "1  2  2\n",
       "2  0  0\n",
       "3  3  1\n",
       "4  4  2\n",
       "5  2  3\n",
       "6  5  4\n",
       "7  0  0\n",
       "8  3  1\n",
       "9  4  2"
      ]
     },
     "execution_count": 18,
     "metadata": {},
     "output_type": "execute_result"
    }
   ],
   "source": [
    "df = pd.DataFrame({'X': [7, 2, 0, 3, 4, 2, 5, 0, 3, 4]})\n",
    "l =  df['X'].tolist()\n",
    "counter = 0\n",
    "distance = []\n",
    "for element in l:\n",
    "    if element != 0:\n",
    "        counter += 1\n",
    "    else:\n",
    "        counter = 0\n",
    "    distance.append(counter)\n",
    "distance\n",
    "df['Y']=pd.DataFrame({'Y':distance})\n",
    "df"
   ]
  },
  {
   "cell_type": "markdown",
   "metadata": {},
   "source": [
    "#2 Create a DatetimeIndex that contains each business day of 2015 and use it to index a\n",
    "Series of random numbers."
   ]
  },
  {
   "cell_type": "code",
   "execution_count": 19,
   "metadata": {},
   "outputs": [
    {
     "name": "stdout",
     "output_type": "stream",
     "text": [
      "2) DatetimeIndex that contains each business day of 2015: /n             RandomNumber\n",
      "Datetime                \n",
      "2015-01-02            89\n",
      "2015-01-05            80\n",
      "2015-01-06            55\n",
      "2015-01-07            92\n",
      "2015-01-08             3\n"
     ]
    }
   ],
   "source": [
    "import random \n",
    "random_series=[]  \n",
    "from pandas.tseries.holiday import USFederalHolidayCalendar\n",
    "from pandas.tseries.offsets import CustomBusinessDay\n",
    "bd = CustomBusinessDay(calendar=USFederalHolidayCalendar())\n",
    "dateindex=pd.DatetimeIndex(start='2015-01-01',end='2015-12-31', freq=bd)\n",
    "random.randint(1, 10)\n",
    "for val in range (len(dateindex)):    \n",
    "    random_series.append(random.randrange(1,101,1)) \n",
    "random_series\n",
    "df_rand=pd.DataFrame(random_series,dateindex)\n",
    "df_rand.columns = ['RandomNumber']\n",
    "df_rand.index.name = 'Datetime'\n",
    "df2=df_rand\n",
    "print('2) DatetimeIndex that contains each business day of 2015: /n',df_rand.head())"
   ]
  },
  {
   "cell_type": "markdown",
   "metadata": {},
   "source": [
    "3) Find the sum of the values in s for every Wednesday"
   ]
  },
  {
   "cell_type": "code",
   "execution_count": 20,
   "metadata": {},
   "outputs": [
    {
     "name": "stdout",
     "output_type": "stream",
     "text": [
      "3) Find the sum of the values in s for every Wednesday \n",
      " RandomNumber    2423\n",
      "dtype: int64\n"
     ]
    }
   ],
   "source": [
    "df_rand.reset_index(inplace=True)\n",
    "df_rand['weekday'] = df_rand['Datetime'].dt.weekday_name\n",
    "#bywednesday=df_rand.groupby('weekday')\n",
    "#print(bywednesday.sum())\n",
    "bywed=df_rand.loc[df_rand['weekday']=='Wednesday']\n",
    "print('3) Find the sum of the values in s for every Wednesday \\n', bywed.sum())"
   ]
  },
  {
   "cell_type": "markdown",
   "metadata": {},
   "source": [
    "4) Average For each calendar month"
   ]
  },
  {
   "cell_type": "code",
   "execution_count": 21,
   "metadata": {
    "scrolled": false
   },
   "outputs": [
    {
     "name": "stdout",
     "output_type": "stream",
     "text": [
      "4) Average For each calendar month \n",
      "        RandomNumber\n",
      "month              \n",
      "1         54.100000\n",
      "2         49.000000\n",
      "3         49.681818\n",
      "4         54.409091\n",
      "5         49.600000\n",
      "6         58.954545\n",
      "7         52.409091\n",
      "8         60.333333\n",
      "9         48.619048\n",
      "10        44.809524\n",
      "11        42.315789\n",
      "12        52.181818\n"
     ]
    }
   ],
   "source": [
    "df_rand['month'] = df_rand['Datetime'].dt.month\n",
    "bymonth=df_rand.groupby('month')\n",
    "print('4) Average For each calendar month \\n',bymonth.mean())"
   ]
  },
  {
   "cell_type": "markdown",
   "metadata": {},
   "source": [
    "5) For each group of four consecutive calendar months in s, find the date on which the\n",
    "highest value occurred."
   ]
  },
  {
   "cell_type": "code",
   "execution_count": 22,
   "metadata": {},
   "outputs": [
    {
     "name": "stdout",
     "output_type": "stream",
     "text": [
      "5) Maximum value of Random numbers in each group of subsequent 4 months are : \n",
      " fourmonth\n",
      "1    100\n",
      "2     99\n",
      "3     98\n",
      "Name: RandomNumber, dtype: int64\n"
     ]
    }
   ],
   "source": [
    "df2['month'] = df2['Datetime'].dt.month\n",
    "df2['fourmonth']=np.where(df2['month'] <=4, 1,(np.where(df2['month'] <=8,2,3)))\n",
    "print('5) Maximum value of Random numbers in each group of subsequent 4 months are : \\n',df2.groupby(['fourmonth'], sort=False)['RandomNumber'].max())"
   ]
  }
 ],
 "metadata": {
  "kernelspec": {
   "display_name": "Python 3",
   "language": "python",
   "name": "python3"
  },
  "language_info": {
   "codemirror_mode": {
    "name": "ipython",
    "version": 3
   },
   "file_extension": ".py",
   "mimetype": "text/x-python",
   "name": "python",
   "nbconvert_exporter": "python",
   "pygments_lexer": "ipython3",
   "version": "3.6.4"
  }
 },
 "nbformat": 4,
 "nbformat_minor": 2
}
